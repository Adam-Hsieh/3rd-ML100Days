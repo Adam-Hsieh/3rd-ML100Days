{
 "cells": [
  {
   "cell_type": "markdown",
   "metadata": {},
   "source": [
    "## 練習時間\n",
    "相信大家對回歸問題及分類問題都有初步的了解。今天的作業希望大家搜尋有關 multi-label 的案例問題。下圖是電影 \"奇異博士\" 的分類。可以看到同時有 \"Action\", \"Adventure\", \"Fantasy\" 的類別存在，代表這是個多標籤的問題。 "
   ]
  },
  {
   "cell_type": "markdown",
   "metadata": {},
   "source": [
    "![image](https://cdn-images-1.medium.com/max/1000/1*r0gYXMSQf5VhdMyl2bRDyg.png)"
   ]
  },
  {
   "cell_type": "markdown",
   "metadata": {},
   "source": [
    "## 請搜尋目標為多標籤問題 (Multi-label) 的機器學習案例，了解其資料來源、目標以及評估指標為何\n",
    "\n",
    "## Hint: 服飾\n",
    "\n",
    "> 資料集包含六個類別的 2,167 個影象，\n",
    "> * 黑色牛仔褲（344影象）\n",
    "> * 藍色連衣裙（386影象）\n",
    "> * 藍色牛仔褲（356影象）\n",
    "> * 藍色襯衫（369影象）\n",
    "> * 紅色連衣裙（380影象）\n",
    "> * 紅色襯衫（332影象）\n",
    "> 6 類影象資料可以通過 python 爬蟲在網站上抓取得到。\n",
    "\n",
    "> 目標是辨別 \n",
    "> Clothing type: Shirts, dresses, pants, shoes, etc.\n",
    "> Color: Red, blue, green, black, etc.\n",
    "> Texture/appearance: Cotton, wool, silk, tweed, etc.\n",
    "\n",
    "> 評估指標則是用 accuracy 來評估。"
   ]
  }
 ],
 "metadata": {
  "kernelspec": {
   "display_name": "Python 3",
   "language": "python",
   "name": "python3"
  },
  "language_info": {
   "codemirror_mode": {
    "name": "ipython",
    "version": 3
   },
   "file_extension": ".py",
   "mimetype": "text/x-python",
   "name": "python",
   "nbconvert_exporter": "python",
   "pygments_lexer": "ipython3",
   "version": "3.7.3"
  }
 },
 "nbformat": 4,
 "nbformat_minor": 2
}
