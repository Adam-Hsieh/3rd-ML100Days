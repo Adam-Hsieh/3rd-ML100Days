{
 "cells": [
  {
   "cell_type": "markdown",
   "metadata": {},
   "source": [
    "## Work\n",
    "### 請結合前面的知識與程式碼，比較不同的 regularization 的組合對訓練的結果與影響：如 dropout, regularizers, batch-normalization 等"
   ]
  },
  {
   "cell_type": "code",
   "execution_count": 1,
   "metadata": {},
   "outputs": [
    {
     "name": "stderr",
     "output_type": "stream",
     "text": [
      "Using TensorFlow backend.\n"
     ]
    }
   ],
   "source": [
    "import os\n",
    "import keras\n",
    "import itertools\n",
    "# Disable GPU\n",
    "os.environ[\"CUDA_VISIBLE_DEVICES\"] = \"0\""
   ]
  },
  {
   "cell_type": "code",
   "execution_count": 2,
   "metadata": {},
   "outputs": [],
   "source": [
    "train, test = keras.datasets.cifar10.load_data()"
   ]
  },
  {
   "cell_type": "code",
   "execution_count": 3,
   "metadata": {},
   "outputs": [],
   "source": [
    "## 資料前處理\n",
    "def preproc_x(x, flatten=True):\n",
    "    x = x / 255.\n",
    "    if flatten:\n",
    "        x = x.reshape((len(x), -1))\n",
    "    return x\n",
    "\n",
    "def preproc_y(y, num_classes=10):\n",
    "    if y.shape[-1] == 1:\n",
    "        y = keras.utils.to_categorical(y, num_classes)\n",
    "    return y    "
   ]
  },
  {
   "cell_type": "code",
   "execution_count": 4,
   "metadata": {},
   "outputs": [],
   "source": [
    "x_train, y_train = train\n",
    "x_test, y_test = test\n",
    "\n",
    "# Preproc the inputs\n",
    "x_train = preproc_x(x_train)\n",
    "x_test = preproc_x(x_test)\n",
    "\n",
    "# Preprc the outputs\n",
    "y_train = preproc_y(y_train)\n",
    "y_test = preproc_y(y_test)"
   ]
  },
  {
   "cell_type": "code",
   "execution_count": 11,
   "metadata": {},
   "outputs": [],
   "source": [
    "from keras.layers import BatchNormalization\n",
    "from keras.regularizers import l1, l2, l1_l2\n",
    "from keras.layers import Dropout\n",
    "\n",
    "\n",
    "def build_mlp(input_shape, output_units=10, num_neurons=[512, 512, 256, 256, 128, 128]):\n",
    "    input_layer = keras.layers.Input(input_shape)\n",
    "    \n",
    "    for i, n_units in enumerate(num_neurons):\n",
    "        if i == 0:\n",
    "            x = keras.layers.Dense(units=n_units, \n",
    "                                   activation=\"relu\", \n",
    "                                   name=\"hidden_layer\"+str(i+1),\n",
    "                                   kernel_regularizer=l2(1e-4))(input_layer)\n",
    "            x = Dropout(0.2)(x)\n",
    "        else:\n",
    "            x = keras.layers.Dense(units=n_units, \n",
    "                                   activation=\"relu\", \n",
    "                                   name=\"hidden_layer\"+str(i+1),\n",
    "                                   kernel_regularizer=l2(1e-4))(x)\n",
    "            x = BatchNormalization()(x)\n",
    "        \n",
    "    x = keras.layers.Dense(units=64, activation=\"softmax\", name=\"hidden_layer\"+str(i+2))(x)\n",
    "    x = Dropout(0.2)(x)\n",
    "    x = keras.layers.Dense(units=32, activation=\"softmax\", name=\"hidden_layer\"+str(i+3))(x)\n",
    "    x = BatchNormalization()(x)\n",
    "    x = keras.layers.Dense(units=16, activation=\"softmax\", name=\"hidden_layer\"+str(i+4))(x)\n",
    "    x = BatchNormalization()(x)\n",
    "    out = keras.layers.Dense(units=output_units, activation=\"softmax\", name=\"output\")(x)\n",
    "    \n",
    "    model = keras.models.Model(inputs=[input_layer], outputs=[out])\n",
    "    return model"
   ]
  },
  {
   "cell_type": "code",
   "execution_count": 13,
   "metadata": {},
   "outputs": [],
   "source": [
    "\"\"\"Code Here\n",
    "設定超參數\n",
    "\"\"\"\n",
    "## 超參數設定\n",
    "LEARNING_RATE = 1e-3\n",
    "EPOCHS = 50\n",
    "BATCH_SIZE = 16\n",
    "MOMENTUM = 0.95"
   ]
  },
  {
   "cell_type": "code",
   "execution_count": 14,
   "metadata": {
    "scrolled": false
   },
   "outputs": [
    {
     "name": "stderr",
     "output_type": "stream",
     "text": [
      "WARNING: Logging before flag parsing goes to stderr.\n",
      "W0426 00:07:40.269244 12492 deprecation_wrapper.py:119] From D:\\Anaconda3\\lib\\site-packages\\keras\\backend\\tensorflow_backend.py:74: The name tf.get_default_graph is deprecated. Please use tf.compat.v1.get_default_graph instead.\n",
      "\n",
      "W0426 00:07:40.281216 12492 deprecation_wrapper.py:119] From D:\\Anaconda3\\lib\\site-packages\\keras\\backend\\tensorflow_backend.py:517: The name tf.placeholder is deprecated. Please use tf.compat.v1.placeholder instead.\n",
      "\n",
      "W0426 00:07:40.283217 12492 deprecation_wrapper.py:119] From D:\\Anaconda3\\lib\\site-packages\\keras\\backend\\tensorflow_backend.py:4138: The name tf.random_uniform is deprecated. Please use tf.random.uniform instead.\n",
      "\n",
      "W0426 00:07:40.298246 12492 deprecation_wrapper.py:119] From D:\\Anaconda3\\lib\\site-packages\\keras\\backend\\tensorflow_backend.py:133: The name tf.placeholder_with_default is deprecated. Please use tf.compat.v1.placeholder_with_default instead.\n",
      "\n",
      "W0426 00:07:40.305217 12492 deprecation.py:506] From D:\\Anaconda3\\lib\\site-packages\\keras\\backend\\tensorflow_backend.py:3445: calling dropout (from tensorflow.python.ops.nn_ops) with keep_prob is deprecated and will be removed in a future version.\n",
      "Instructions for updating:\n",
      "Please use `rate` instead of `keep_prob`. Rate should be set to `rate = 1 - keep_prob`.\n",
      "W0426 00:07:40.920245 12492 deprecation_wrapper.py:119] From D:\\Anaconda3\\lib\\site-packages\\keras\\optimizers.py:790: The name tf.train.Optimizer is deprecated. Please use tf.compat.v1.train.Optimizer instead.\n",
      "\n",
      "W0426 00:07:40.925217 12492 deprecation_wrapper.py:119] From D:\\Anaconda3\\lib\\site-packages\\keras\\backend\\tensorflow_backend.py:3295: The name tf.log is deprecated. Please use tf.math.log instead.\n",
      "\n",
      "W0426 00:07:41.065248 12492 deprecation.py:323] From D:\\Anaconda3\\lib\\site-packages\\tensorflow\\python\\ops\\math_grad.py:1250: add_dispatch_support.<locals>.wrapper (from tensorflow.python.ops.array_ops) is deprecated and will be removed in a future version.\n",
      "Instructions for updating:\n",
      "Use tf.where in 2.0, which has the same broadcast rule as np.where\n"
     ]
    },
    {
     "name": "stdout",
     "output_type": "stream",
     "text": [
      "_________________________________________________________________\n",
      "Layer (type)                 Output Shape              Param #   \n",
      "=================================================================\n",
      "input_1 (InputLayer)         (None, 3072)              0         \n",
      "_________________________________________________________________\n",
      "hidden_layer1 (Dense)        (None, 512)               1573376   \n",
      "_________________________________________________________________\n",
      "dropout_1 (Dropout)          (None, 512)               0         \n",
      "_________________________________________________________________\n",
      "hidden_layer2 (Dense)        (None, 512)               262656    \n",
      "_________________________________________________________________\n",
      "batch_normalization_1 (Batch (None, 512)               2048      \n",
      "_________________________________________________________________\n",
      "hidden_layer3 (Dense)        (None, 256)               131328    \n",
      "_________________________________________________________________\n",
      "batch_normalization_2 (Batch (None, 256)               1024      \n",
      "_________________________________________________________________\n",
      "hidden_layer4 (Dense)        (None, 256)               65792     \n",
      "_________________________________________________________________\n",
      "batch_normalization_3 (Batch (None, 256)               1024      \n",
      "_________________________________________________________________\n",
      "hidden_layer5 (Dense)        (None, 128)               32896     \n",
      "_________________________________________________________________\n",
      "batch_normalization_4 (Batch (None, 128)               512       \n",
      "_________________________________________________________________\n",
      "hidden_layer6 (Dense)        (None, 128)               16512     \n",
      "_________________________________________________________________\n",
      "batch_normalization_5 (Batch (None, 128)               512       \n",
      "_________________________________________________________________\n",
      "hidden_layer7 (Dense)        (None, 64)                8256      \n",
      "_________________________________________________________________\n",
      "dropout_2 (Dropout)          (None, 64)                0         \n",
      "_________________________________________________________________\n",
      "hidden_layer8 (Dense)        (None, 32)                2080      \n",
      "_________________________________________________________________\n",
      "batch_normalization_6 (Batch (None, 32)                128       \n",
      "_________________________________________________________________\n",
      "hidden_layer9 (Dense)        (None, 16)                528       \n",
      "_________________________________________________________________\n",
      "batch_normalization_7 (Batch (None, 16)                64        \n",
      "_________________________________________________________________\n",
      "output (Dense)               (None, 10)                170       \n",
      "=================================================================\n",
      "Total params: 2,098,906\n",
      "Trainable params: 2,096,250\n",
      "Non-trainable params: 2,656\n",
      "_________________________________________________________________\n",
      "Train on 50000 samples, validate on 10000 samples\n",
      "Epoch 1/50\n",
      "50000/50000 [==============================] - 42s 842us/step - loss: 2.4156 - acc: 0.1786 - val_loss: 2.2811 - val_acc: 0.2582\n",
      "Epoch 2/50\n",
      "50000/50000 [==============================] - 39s 779us/step - loss: 2.1952 - acc: 0.2794 - val_loss: 2.0616 - val_acc: 0.3444\n",
      "Epoch 3/50\n",
      "50000/50000 [==============================] - 41s 816us/step - loss: 2.1257 - acc: 0.3100 - val_loss: 2.0394 - val_acc: 0.3485\n",
      "Epoch 4/50\n",
      "50000/50000 [==============================] - 41s 819us/step - loss: 2.0741 - acc: 0.3284 - val_loss: 1.9736 - val_acc: 0.3727\n",
      "Epoch 5/50\n",
      "50000/50000 [==============================] - 41s 821us/step - loss: 2.0243 - acc: 0.3476 - val_loss: 1.8948 - val_acc: 0.4023\n",
      "Epoch 6/50\n",
      "50000/50000 [==============================] - 41s 820us/step - loss: 1.9908 - acc: 0.3604 - val_loss: 1.8765 - val_acc: 0.4140\n",
      "Epoch 7/50\n",
      "50000/50000 [==============================] - 40s 802us/step - loss: 1.9524 - acc: 0.3754 - val_loss: 1.8629 - val_acc: 0.4133\n",
      "Epoch 8/50\n",
      "50000/50000 [==============================] - 40s 803us/step - loss: 1.9258 - acc: 0.3852 - val_loss: 1.8374 - val_acc: 0.4262\n",
      "Epoch 9/50\n",
      "50000/50000 [==============================] - 40s 806us/step - loss: 1.8999 - acc: 0.3930 - val_loss: 1.7996 - val_acc: 0.4385\n",
      "Epoch 10/50\n",
      "50000/50000 [==============================] - 40s 802us/step - loss: 1.8829 - acc: 0.4000 - val_loss: 1.7898 - val_acc: 0.4419\n",
      "Epoch 11/50\n",
      "50000/50000 [==============================] - 40s 804us/step - loss: 1.8616 - acc: 0.4084 - val_loss: 1.7549 - val_acc: 0.4423\n",
      "Epoch 12/50\n",
      "50000/50000 [==============================] - 45s 902us/step - loss: 1.8387 - acc: 0.4157 - val_loss: 1.7381 - val_acc: 0.4616\n",
      "Epoch 13/50\n",
      "50000/50000 [==============================] - 48s 961us/step - loss: 1.8281 - acc: 0.4210 - val_loss: 1.7100 - val_acc: 0.4732\n",
      "Epoch 14/50\n",
      "50000/50000 [==============================] - 47s 941us/step - loss: 1.8086 - acc: 0.4234 - val_loss: 1.7341 - val_acc: 0.4616\n",
      "Epoch 15/50\n",
      "50000/50000 [==============================] - 47s 939us/step - loss: 1.7908 - acc: 0.4285 - val_loss: 1.7128 - val_acc: 0.4665\n",
      "Epoch 16/50\n",
      "50000/50000 [==============================] - 47s 934us/step - loss: 1.7696 - acc: 0.4364 - val_loss: 1.6870 - val_acc: 0.4745\n",
      "Epoch 17/50\n",
      "50000/50000 [==============================] - 47s 932us/step - loss: 1.7629 - acc: 0.4391 - val_loss: 1.7094 - val_acc: 0.4615\n",
      "Epoch 18/50\n",
      "50000/50000 [==============================] - 47s 937us/step - loss: 1.7508 - acc: 0.4434 - val_loss: 1.6985 - val_acc: 0.4762\n",
      "Epoch 19/50\n",
      "50000/50000 [==============================] - 47s 941us/step - loss: 1.7412 - acc: 0.4455 - val_loss: 1.6584 - val_acc: 0.4794\n",
      "Epoch 20/50\n",
      "50000/50000 [==============================] - 47s 941us/step - loss: 1.7266 - acc: 0.4504 - val_loss: 1.6591 - val_acc: 0.4818\n",
      "Epoch 21/50\n",
      "50000/50000 [==============================] - 47s 944us/step - loss: 1.7111 - acc: 0.4538 - val_loss: 1.6320 - val_acc: 0.4872\n",
      "Epoch 22/50\n",
      "50000/50000 [==============================] - 47s 938us/step - loss: 1.7025 - acc: 0.4578 - val_loss: 1.6174 - val_acc: 0.4935\n",
      "Epoch 23/50\n",
      "50000/50000 [==============================] - 47s 933us/step - loss: 1.6937 - acc: 0.4614 - val_loss: 1.6474 - val_acc: 0.4708\n",
      "Epoch 24/50\n",
      "50000/50000 [==============================] - 47s 942us/step - loss: 1.6808 - acc: 0.4658 - val_loss: 1.6099 - val_acc: 0.5024\n",
      "Epoch 25/50\n",
      "50000/50000 [==============================] - 48s 952us/step - loss: 1.6726 - acc: 0.4664 - val_loss: 1.6576 - val_acc: 0.4756\n",
      "Epoch 26/50\n",
      "50000/50000 [==============================] - 47s 931us/step - loss: 1.6673 - acc: 0.4695 - val_loss: 1.6047 - val_acc: 0.4925\n",
      "Epoch 27/50\n",
      "50000/50000 [==============================] - 47s 936us/step - loss: 1.6502 - acc: 0.4724 - val_loss: 1.6036 - val_acc: 0.5010\n",
      "Epoch 28/50\n",
      "50000/50000 [==============================] - 47s 937us/step - loss: 1.6463 - acc: 0.4773 - val_loss: 1.6452 - val_acc: 0.4819\n",
      "Epoch 29/50\n",
      "50000/50000 [==============================] - 47s 935us/step - loss: 1.6342 - acc: 0.4824 - val_loss: 1.5670 - val_acc: 0.5043\n",
      "Epoch 30/50\n",
      "50000/50000 [==============================] - 47s 940us/step - loss: 1.6287 - acc: 0.4811 - val_loss: 1.5643 - val_acc: 0.5143\n",
      "Epoch 31/50\n",
      "50000/50000 [==============================] - 48s 956us/step - loss: 1.6274 - acc: 0.4839 - val_loss: 1.5775 - val_acc: 0.5034\n",
      "Epoch 32/50\n",
      "50000/50000 [==============================] - 47s 932us/step - loss: 1.6073 - acc: 0.4909 - val_loss: 1.5669 - val_acc: 0.5061\n",
      "Epoch 33/50\n",
      "50000/50000 [==============================] - 48s 957us/step - loss: 1.6054 - acc: 0.4895 - val_loss: 1.5942 - val_acc: 0.4975\n",
      "Epoch 34/50\n",
      "50000/50000 [==============================] - 49s 976us/step - loss: 1.6013 - acc: 0.4900 - val_loss: 1.5595 - val_acc: 0.5076\n",
      "Epoch 35/50\n",
      "50000/50000 [==============================] - 49s 971us/step - loss: 1.5899 - acc: 0.4982 - val_loss: 1.5541 - val_acc: 0.5059\n",
      "Epoch 36/50\n",
      "50000/50000 [==============================] - 48s 957us/step - loss: 1.5763 - acc: 0.4993 - val_loss: 1.5503 - val_acc: 0.5117\n",
      "Epoch 37/50\n"
     ]
    },
    {
     "name": "stdout",
     "output_type": "stream",
     "text": [
      "50000/50000 [==============================] - 48s 956us/step - loss: 1.5757 - acc: 0.4985 - val_loss: 1.5532 - val_acc: 0.5040\n",
      "Epoch 38/50\n",
      "50000/50000 [==============================] - 47s 947us/step - loss: 1.5706 - acc: 0.5028 - val_loss: 1.5313 - val_acc: 0.5191\n",
      "Epoch 39/50\n",
      "50000/50000 [==============================] - 48s 965us/step - loss: 1.5651 - acc: 0.5042 - val_loss: 1.5457 - val_acc: 0.5085\n",
      "Epoch 40/50\n",
      "50000/50000 [==============================] - 48s 964us/step - loss: 1.5633 - acc: 0.5036 - val_loss: 1.5257 - val_acc: 0.5145\n",
      "Epoch 41/50\n",
      "50000/50000 [==============================] - 49s 972us/step - loss: 1.5537 - acc: 0.5093 - val_loss: 1.5821 - val_acc: 0.4923\n",
      "Epoch 42/50\n",
      "50000/50000 [==============================] - 48s 964us/step - loss: 1.5484 - acc: 0.5103 - val_loss: 1.5399 - val_acc: 0.5084\n",
      "Epoch 43/50\n",
      "50000/50000 [==============================] - 48s 959us/step - loss: 1.5399 - acc: 0.5119 - val_loss: 1.5119 - val_acc: 0.5171\n",
      "Epoch 44/50\n",
      "50000/50000 [==============================] - 49s 973us/step - loss: 1.5370 - acc: 0.5134 - val_loss: 1.5179 - val_acc: 0.5219\n",
      "Epoch 45/50\n",
      "50000/50000 [==============================] - 49s 977us/step - loss: 1.5355 - acc: 0.5119 - val_loss: 1.5578 - val_acc: 0.4982\n",
      "Epoch 46/50\n",
      "50000/50000 [==============================] - 48s 968us/step - loss: 1.5277 - acc: 0.5154 - val_loss: 1.5255 - val_acc: 0.5188\n",
      "Epoch 47/50\n",
      "50000/50000 [==============================] - 48s 964us/step - loss: 1.5227 - acc: 0.5154 - val_loss: 1.5136 - val_acc: 0.5166\n",
      "Epoch 48/50\n",
      "50000/50000 [==============================] - 41s 819us/step - loss: 1.5174 - acc: 0.5187 - val_loss: 1.5178 - val_acc: 0.5195\n",
      "Epoch 49/50\n",
      "50000/50000 [==============================] - 41s 818us/step - loss: 1.5159 - acc: 0.5188 - val_loss: 1.5063 - val_acc: 0.5263\n",
      "Epoch 50/50\n",
      "50000/50000 [==============================] - 40s 801us/step - loss: 1.5096 - acc: 0.5226 - val_loss: 1.5434 - val_acc: 0.5113\n"
     ]
    }
   ],
   "source": [
    "results = {}\n",
    "\"\"\"Code Here\n",
    "撰寫你的訓練流程並將結果用 dictionary 紀錄\n",
    "\"\"\"\n",
    "model = build_mlp(input_shape=x_train.shape[1:])\n",
    "model.summary()\n",
    "optimizer = keras.optimizers.SGD(lr=LEARNING_RATE, nesterov=True, momentum=MOMENTUM)\n",
    "model.compile(loss=\"categorical_crossentropy\", metrics=[\"accuracy\"], optimizer=optimizer)\n",
    "\n",
    "model.fit(x_train, y_train, \n",
    "          epochs=EPOCHS, \n",
    "          batch_size=BATCH_SIZE, \n",
    "          validation_data=(x_test, y_test), \n",
    "          shuffle=True)\n",
    "\n",
    "# Collect results\n",
    "train_loss = model.history.history[\"loss\"]\n",
    "valid_loss = model.history.history[\"val_loss\"]\n",
    "train_acc = model.history.history[\"acc\"]\n",
    "valid_acc = model.history.history[\"val_acc\"]\n",
    "\n",
    "results['bat'+str(BATCH_SIZE)] = {'train-loss': train_loss,\n",
    "                                 'valid-loss': valid_loss,\n",
    "                                 'train-acc': train_acc,\n",
    "                                 'valid-acc': valid_acc}"
   ]
  },
  {
   "cell_type": "code",
   "execution_count": 15,
   "metadata": {},
   "outputs": [
    {
     "data": {
      "image/png": "[encoded data removed]",
      "text/plain": [
       "<Figure size 432x288 with 1 Axes>"
      ]
     },
     "metadata": {
      "needs_background": "light"
     },
     "output_type": "display_data"
    },
    {
     "data": {
      "image/png": "[encoded data removed]",
      "text/plain": [
       "<Figure size 432x288 with 1 Axes>"
      ]
     },
     "metadata": {
      "needs_background": "light"
     },
     "output_type": "display_data"
    }
   ],
   "source": [
    "import matplotlib.pyplot as plt\n",
    "%matplotlib inline\n",
    "\"\"\"Code Here\n",
    "將結果繪出\n",
    "\"\"\"\n",
    "\n",
    "plt.plot(range(len(train_loss)), train_loss, label=\"train loss\")\n",
    "plt.plot(range(len(valid_loss)), valid_loss, label=\"valid loss\")\n",
    "plt.legend()\n",
    "plt.title(\"Loss\")\n",
    "plt.show()\n",
    "\n",
    "plt.plot(range(len(train_acc)), train_acc, label=\"train accuracy\")\n",
    "plt.plot(range(len(valid_acc)), valid_acc, label=\"valid accuracy\")\n",
    "plt.legend()\n",
    "plt.title(\"Accuracy\")\n",
    "plt.show()"
   ]
  }
 ],
 "metadata": {
  "kernelspec": {
   "display_name": "Python 3",
   "language": "python",
   "name": "python3"
  },
  "language_info": {
   "codemirror_mode": {
    "name": "ipython",
    "version": 3
   },
   "file_extension": ".py",
   "mimetype": "text/x-python",
   "name": "python",
   "nbconvert_exporter": "python",
   "pygments_lexer": "ipython3",
   "version": "3.7.3"
  }
 },
 "nbformat": 4,
 "nbformat_minor": 2
}
