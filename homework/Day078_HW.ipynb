{
 "cells": [
  {
   "cell_type": "markdown",
   "metadata": {},
   "source": [
    "## Work\n",
    "1. 請嘗試將 preproc_x 替換成以每筆資料的 min/max 進行標準化至 -1 ~ 1 間，再進行訓練\n",
    "2. 請嘗試將 mlp 疊更深 (e.g 5~10 層)，進行訓練後觀察 learning curve 的走勢\n",
    "3. (optional) 請改用 GPU 進行訓練 (如果你有 GPU 的話)，比較使用 CPU 與 GPU 的訓練速度"
   ]
  },
  {
   "cell_type": "code",
   "execution_count": 8,
   "metadata": {},
   "outputs": [
    {
     "name": "stderr",
     "output_type": "stream",
     "text": [
      "'nvidia-smi' 不是內部或外部命令、可執行的程式或批次檔。\n"
     ]
    }
   ],
   "source": [
    "## \n",
    "\"\"\"\n",
    "Your code here (optional)\n",
    "確認硬體資源\n",
    "\"\"\"\n",
    "## 確認硬體資源 (如果你是在 Linux, 若是在 Windows, 請參考 https://blog.csdn.net/idwtwt/article/details/78017565)\n",
    "!nvidia-smi"
   ]
  },
  {
   "cell_type": "code",
   "execution_count": 14,
   "metadata": {},
   "outputs": [],
   "source": [
    "import os\n",
    "import keras\n",
    "import numpy as np\n",
    "\n",
    "# 請嘗試設定 GPU：os.environ\n",
    "os.environ[\"CUDA_VISIBLE_DEVICES\"] = \"0\""
   ]
  },
  {
   "cell_type": "code",
   "execution_count": 15,
   "metadata": {},
   "outputs": [],
   "source": [
    "train, test = keras.datasets.cifar10.load_data()"
   ]
  },
  {
   "cell_type": "code",
   "execution_count": 16,
   "metadata": {},
   "outputs": [],
   "source": [
    "## 資料前處理\n",
    "\"\"\"\n",
    "Your code here\n",
    "\"\"\"\n",
    "def preproc_x(x, flatten=True):\n",
    "    x = (x / 128.)-1\n",
    "    if flatten:\n",
    "        x = x.reshape((len(x), -1))\n",
    "#         x_max = np.max(x)\n",
    "#         x_min = np.min(x)\n",
    "#         x \n",
    "    return x\n",
    "\n",
    "def preproc_y(y, num_classes=10):\n",
    "    if y.shape[-1] == 1:\n",
    "        y = keras.utils.to_categorical(y, num_classes)\n",
    "    return y    "
   ]
  },
  {
   "cell_type": "code",
   "execution_count": 17,
   "metadata": {},
   "outputs": [
    {
     "name": "stdout",
     "output_type": "stream",
     "text": [
      "0.9921875\n",
      "-1.0\n"
     ]
    }
   ],
   "source": [
    "x_train, y_train = train\n",
    "x_test, y_test = test\n",
    "\n",
    "# Preproc the inputs\n",
    "x_train = preproc_x(x_train)\n",
    "x_test = preproc_x(x_test)\n",
    "\n",
    "\n",
    "# Preprc the outputs\n",
    "y_train = preproc_y(y_train)\n",
    "y_test = preproc_y(y_test)"
   ]
  },
  {
   "cell_type": "code",
   "execution_count": 23,
   "metadata": {},
   "outputs": [
    {
     "name": "stdout",
     "output_type": "stream",
     "text": [
      "_________________________________________________________________\n",
      "Layer (type)                 Output Shape              Param #   \n",
      "=================================================================\n",
      "input_3 (InputLayer)         (None, 3072)              0         \n",
      "_________________________________________________________________\n",
      "hidden_layer1 (Dense)        (None, 512)               1573376   \n",
      "_________________________________________________________________\n",
      "hidden_layer2 (Dense)        (None, 512)               262656    \n",
      "_________________________________________________________________\n",
      "hidden_layer3 (Dense)        (None, 256)               131328    \n",
      "_________________________________________________________________\n",
      "hidden_layer4 (Dense)        (None, 256)               65792     \n",
      "_________________________________________________________________\n",
      "hidden_layer5 (Dense)        (None, 128)               32896     \n",
      "_________________________________________________________________\n",
      "hidden_layer6 (Dense)        (None, 128)               16512     \n",
      "_________________________________________________________________\n",
      "hidden_layer7 (Dense)        (None, 128)               16512     \n",
      "_________________________________________________________________\n",
      "hidden_layer8 (Dense)        (None, 64)                8256      \n",
      "_________________________________________________________________\n",
      "hidden_layer9 (Dense)        (None, 32)                2080      \n",
      "_________________________________________________________________\n",
      "hidden_layer10 (Dense)       (None, 16)                528       \n",
      "_________________________________________________________________\n",
      "output (Dense)               (None, 10)                170       \n",
      "=================================================================\n",
      "Total params: 2,110,106\n",
      "Trainable params: 2,110,106\n",
      "Non-trainable params: 0\n",
      "_________________________________________________________________\n"
     ]
    }
   ],
   "source": [
    "\"\"\"Code Here\n",
    "建立你的神經網路\n",
    "\"\"\"\n",
    "def build_mlp(input_shape, output_units=10, num_neurons=[512, 512, 256, 256, 128, 128, 128, 64, 32, 16]):\n",
    "    input_layer = keras.layers.Input(input_shape)\n",
    "    \n",
    "    for i, n_units in enumerate(num_neurons):\n",
    "        if i == 0:\n",
    "            x = keras.layers.Dense(units=n_units, activation=\"relu\", name=\"hidden_layer\"+str(i+1))(input_layer)\n",
    "        else:\n",
    "            x = keras.layers.Dense(units=n_units, activation=\"relu\", name=\"hidden_layer\"+str(i+1))(x)\n",
    "    \n",
    "    out = keras.layers.Dense(units=output_units, activation=\"softmax\", name=\"output\")(x)\n",
    "    \n",
    "    model = keras.models.Model(inputs=[input_layer], outputs=[out])\n",
    "    return model\n",
    "\n",
    "model = build_mlp(input_shape=x_train.shape[1:])\n",
    "model.summary()"
   ]
  },
  {
   "cell_type": "code",
   "execution_count": 24,
   "metadata": {},
   "outputs": [],
   "source": [
    "## 超參數設定\n",
    "LEARNING_RATE = 0.001\n",
    "EPOCHS = 100\n",
    "BATCH_SIZE = 256"
   ]
  },
  {
   "cell_type": "code",
   "execution_count": 25,
   "metadata": {},
   "outputs": [],
   "source": [
    "optimizer = keras.optimizers.Adam(lr=LEARNING_RATE)\n",
    "model.compile(loss=\"categorical_crossentropy\", metrics=[\"accuracy\"], optimizer=optimizer)"
   ]
  },
  {
   "cell_type": "code",
   "execution_count": 26,
   "metadata": {
    "scrolled": false
   },
   "outputs": [
    {
     "name": "stderr",
     "output_type": "stream",
     "text": [
      "W0421 20:09:51.401763  8752 deprecation.py:323] From D:\\Anaconda3\\lib\\site-packages\\tensorflow\\python\\ops\\math_grad.py:1250: add_dispatch_support.<locals>.wrapper (from tensorflow.python.ops.array_ops) is deprecated and will be removed in a future version.\n",
      "Instructions for updating:\n",
      "Use tf.where in 2.0, which has the same broadcast rule as np.where\n",
      "W0421 20:09:51.464785  8752 deprecation_wrapper.py:119] From D:\\Anaconda3\\lib\\site-packages\\keras\\backend\\tensorflow_backend.py:986: The name tf.assign_add is deprecated. Please use tf.compat.v1.assign_add instead.\n",
      "\n"
     ]
    },
    {
     "name": "stdout",
     "output_type": "stream",
     "text": [
      "Train on 50000 samples, validate on 10000 samples\n",
      "Epoch 1/100\n",
      "50000/50000 [==============================] - 15s 296us/step - loss: 1.9020 - acc: 0.3149 - val_loss: 1.7013 - val_acc: 0.3824\n",
      "Epoch 2/100\n",
      "50000/50000 [==============================] - 3s 53us/step - loss: 1.5935 - acc: 0.4344 - val_loss: 1.5074 - val_acc: 0.4605\n",
      "Epoch 3/100\n",
      "50000/50000 [==============================] - 3s 53us/step - loss: 1.4539 - acc: 0.4858 - val_loss: 1.4741 - val_acc: 0.4771\n",
      "Epoch 4/100\n",
      "50000/50000 [==============================] - 3s 53us/step - loss: 1.3438 - acc: 0.5256 - val_loss: 1.4237 - val_acc: 0.5017\n",
      "Epoch 5/100\n",
      "50000/50000 [==============================] - 3s 52us/step - loss: 1.2538 - acc: 0.5591 - val_loss: 1.3833 - val_acc: 0.5199\n",
      "Epoch 6/100\n",
      "50000/50000 [==============================] - 3s 53us/step - loss: 1.1683 - acc: 0.5891 - val_loss: 1.3772 - val_acc: 0.5244\n",
      "Epoch 7/100\n",
      "50000/50000 [==============================] - 3s 53us/step - loss: 1.0821 - acc: 0.6171 - val_loss: 1.3817 - val_acc: 0.5311\n",
      "Epoch 8/100\n",
      "50000/50000 [==============================] - 3s 53us/step - loss: 1.0001 - acc: 0.6466 - val_loss: 1.3977 - val_acc: 0.5408\n",
      "Epoch 9/100\n",
      "50000/50000 [==============================] - 3s 53us/step - loss: 0.9274 - acc: 0.6718 - val_loss: 1.4186 - val_acc: 0.5413\n",
      "Epoch 10/100\n",
      "50000/50000 [==============================] - 3s 53us/step - loss: 0.8507 - acc: 0.7000 - val_loss: 1.4436 - val_acc: 0.5391\n",
      "Epoch 11/100\n",
      "50000/50000 [==============================] - 3s 52us/step - loss: 0.7794 - acc: 0.7242 - val_loss: 1.5109 - val_acc: 0.5468\n",
      "Epoch 12/100\n",
      "50000/50000 [==============================] - 3s 53us/step - loss: 0.7118 - acc: 0.7491 - val_loss: 1.5894 - val_acc: 0.5473\n",
      "Epoch 13/100\n",
      "50000/50000 [==============================] - 3s 53us/step - loss: 0.6469 - acc: 0.7686 - val_loss: 1.6858 - val_acc: 0.5376\n",
      "Epoch 14/100\n",
      "50000/50000 [==============================] - 3s 53us/step - loss: 0.5854 - acc: 0.7920 - val_loss: 1.7852 - val_acc: 0.5351\n",
      "Epoch 15/100\n",
      "50000/50000 [==============================] - 3s 53us/step - loss: 0.5395 - acc: 0.8068 - val_loss: 1.8085 - val_acc: 0.5346\n",
      "Epoch 16/100\n",
      "50000/50000 [==============================] - 3s 53us/step - loss: 0.4781 - acc: 0.8309 - val_loss: 1.7926 - val_acc: 0.5390\n",
      "Epoch 17/100\n",
      "50000/50000 [==============================] - 3s 53us/step - loss: 0.4277 - acc: 0.8499 - val_loss: 2.0217 - val_acc: 0.5352\n",
      "Epoch 18/100\n",
      "50000/50000 [==============================] - 3s 53us/step - loss: 0.4013 - acc: 0.8607 - val_loss: 1.9751 - val_acc: 0.5402\n",
      "Epoch 19/100\n",
      "50000/50000 [==============================] - 3s 53us/step - loss: 0.3631 - acc: 0.8724 - val_loss: 2.1785 - val_acc: 0.5314\n",
      "Epoch 20/100\n",
      "50000/50000 [==============================] - 3s 53us/step - loss: 0.3372 - acc: 0.8829 - val_loss: 2.1034 - val_acc: 0.5363\n",
      "Epoch 21/100\n",
      "50000/50000 [==============================] - 3s 53us/step - loss: 0.3027 - acc: 0.8945 - val_loss: 2.2521 - val_acc: 0.5375\n",
      "Epoch 22/100\n",
      "50000/50000 [==============================] - 3s 53us/step - loss: 0.2774 - acc: 0.9040 - val_loss: 2.4947 - val_acc: 0.5286\n",
      "Epoch 23/100\n",
      "50000/50000 [==============================] - 3s 54us/step - loss: 0.2552 - acc: 0.9128 - val_loss: 2.3985 - val_acc: 0.5325\n",
      "Epoch 24/100\n",
      "50000/50000 [==============================] - 3s 52us/step - loss: 0.2399 - acc: 0.9184 - val_loss: 2.5608 - val_acc: 0.5346\n",
      "Epoch 25/100\n",
      "50000/50000 [==============================] - 3s 53us/step - loss: 0.2310 - acc: 0.9203 - val_loss: 2.4997 - val_acc: 0.5362\n",
      "Epoch 26/100\n",
      "50000/50000 [==============================] - 3s 53us/step - loss: 0.2089 - acc: 0.9294 - val_loss: 2.7402 - val_acc: 0.5305\n",
      "Epoch 27/100\n",
      "50000/50000 [==============================] - 3s 53us/step - loss: 0.1964 - acc: 0.9332 - val_loss: 2.6978 - val_acc: 0.5288\n",
      "Epoch 28/100\n",
      "50000/50000 [==============================] - 3s 53us/step - loss: 0.1841 - acc: 0.9386 - val_loss: 2.6271 - val_acc: 0.5363\n",
      "Epoch 29/100\n",
      "50000/50000 [==============================] - 3s 53us/step - loss: 0.1744 - acc: 0.9415 - val_loss: 2.6358 - val_acc: 0.5334\n",
      "Epoch 30/100\n",
      "50000/50000 [==============================] - 3s 52us/step - loss: 0.1646 - acc: 0.9449 - val_loss: 2.6889 - val_acc: 0.5368\n",
      "Epoch 31/100\n",
      "50000/50000 [==============================] - 3s 53us/step - loss: 0.1575 - acc: 0.9479 - val_loss: 2.8534 - val_acc: 0.5471\n",
      "Epoch 32/100\n",
      "50000/50000 [==============================] - 3s 53us/step - loss: 0.1519 - acc: 0.9499 - val_loss: 2.9121 - val_acc: 0.5335\n",
      "Epoch 33/100\n",
      "50000/50000 [==============================] - 3s 53us/step - loss: 0.1399 - acc: 0.9538 - val_loss: 2.8308 - val_acc: 0.5347\n",
      "Epoch 34/100\n",
      "50000/50000 [==============================] - 3s 53us/step - loss: 0.1410 - acc: 0.9536 - val_loss: 2.8631 - val_acc: 0.5379\n",
      "Epoch 35/100\n",
      "50000/50000 [==============================] - 3s 53us/step - loss: 0.1392 - acc: 0.9544 - val_loss: 2.8472 - val_acc: 0.5399\n",
      "Epoch 36/100\n",
      "50000/50000 [==============================] - 3s 53us/step - loss: 0.1271 - acc: 0.9578 - val_loss: 2.9221 - val_acc: 0.5398\n",
      "Epoch 37/100\n",
      "50000/50000 [==============================] - 3s 52us/step - loss: 0.1263 - acc: 0.9582 - val_loss: 3.0173 - val_acc: 0.5345\n",
      "Epoch 38/100\n",
      "50000/50000 [==============================] - 3s 53us/step - loss: 0.1291 - acc: 0.9583 - val_loss: 3.0381 - val_acc: 0.5418\n",
      "Epoch 39/100\n",
      "50000/50000 [==============================] - 3s 53us/step - loss: 0.1139 - acc: 0.9628 - val_loss: 3.0579 - val_acc: 0.5436\n",
      "Epoch 40/100\n",
      "50000/50000 [==============================] - 3s 53us/step - loss: 0.1163 - acc: 0.9626 - val_loss: 2.8208 - val_acc: 0.5453\n",
      "Epoch 41/100\n",
      "50000/50000 [==============================] - 3s 53us/step - loss: 0.1017 - acc: 0.9669 - val_loss: 3.1216 - val_acc: 0.5440\n",
      "Epoch 42/100\n",
      "50000/50000 [==============================] - 3s 53us/step - loss: 0.1077 - acc: 0.9651 - val_loss: 2.9199 - val_acc: 0.5305\n",
      "Epoch 43/100\n",
      "50000/50000 [==============================] - 3s 53us/step - loss: 0.1202 - acc: 0.9612 - val_loss: 2.9998 - val_acc: 0.5356\n",
      "Epoch 44/100\n",
      "50000/50000 [==============================] - 3s 53us/step - loss: 0.1116 - acc: 0.9636 - val_loss: 2.9305 - val_acc: 0.5301\n",
      "Epoch 45/100\n",
      "50000/50000 [==============================] - 3s 52us/step - loss: 0.1002 - acc: 0.9684 - val_loss: 2.9781 - val_acc: 0.5356\n",
      "Epoch 46/100\n",
      "50000/50000 [==============================] - 3s 53us/step - loss: 0.0977 - acc: 0.9678 - val_loss: 3.0026 - val_acc: 0.5392\n",
      "Epoch 47/100\n",
      "50000/50000 [==============================] - 3s 53us/step - loss: 0.0871 - acc: 0.9712 - val_loss: 3.1241 - val_acc: 0.5404\n",
      "Epoch 48/100\n",
      "50000/50000 [==============================] - 3s 53us/step - loss: 0.1028 - acc: 0.9671 - val_loss: 2.8704 - val_acc: 0.5360\n",
      "Epoch 49/100\n",
      "50000/50000 [==============================] - 3s 52us/step - loss: 0.0992 - acc: 0.9692 - val_loss: 2.9228 - val_acc: 0.5431\n",
      "Epoch 50/100\n",
      "50000/50000 [==============================] - 3s 53us/step - loss: 0.0851 - acc: 0.9734 - val_loss: 2.9941 - val_acc: 0.5437\n",
      "Epoch 51/100\n",
      "50000/50000 [==============================] - 3s 52us/step - loss: 0.0896 - acc: 0.9715 - val_loss: 3.0812 - val_acc: 0.5424\n",
      "Epoch 52/100\n",
      "50000/50000 [==============================] - 3s 53us/step - loss: 0.0927 - acc: 0.9707 - val_loss: 3.0339 - val_acc: 0.5409\n",
      "Epoch 53/100\n",
      "50000/50000 [==============================] - 3s 52us/step - loss: 0.0767 - acc: 0.9757 - val_loss: 3.0887 - val_acc: 0.5447\n",
      "Epoch 54/100\n",
      "50000/50000 [==============================] - 3s 53us/step - loss: 0.0815 - acc: 0.9739 - val_loss: 3.1591 - val_acc: 0.5394\n",
      "Epoch 55/100\n",
      "50000/50000 [==============================] - 3s 53us/step - loss: 0.0911 - acc: 0.9706 - val_loss: 2.9558 - val_acc: 0.5424\n",
      "Epoch 56/100\n",
      "50000/50000 [==============================] - 3s 52us/step - loss: 0.0831 - acc: 0.9737 - val_loss: 3.1488 - val_acc: 0.5361\n",
      "Epoch 57/100\n",
      "50000/50000 [==============================] - 3s 53us/step - loss: 0.0827 - acc: 0.9725 - val_loss: 2.9524 - val_acc: 0.5355\n",
      "Epoch 58/100\n",
      "50000/50000 [==============================] - 3s 53us/step - loss: 0.0865 - acc: 0.9724 - val_loss: 2.9318 - val_acc: 0.5429\n",
      "Epoch 59/100\n"
     ]
    },
    {
     "name": "stdout",
     "output_type": "stream",
     "text": [
      "50000/50000 [==============================] - 3s 53us/step - loss: 0.0745 - acc: 0.9763 - val_loss: 3.2928 - val_acc: 0.5411\n",
      "Epoch 60/100\n",
      "50000/50000 [==============================] - 3s 52us/step - loss: 0.0818 - acc: 0.9743 - val_loss: 3.1533 - val_acc: 0.5455\n",
      "Epoch 61/100\n",
      "50000/50000 [==============================] - 3s 52us/step - loss: 0.0715 - acc: 0.9771 - val_loss: 3.1959 - val_acc: 0.5416\n",
      "Epoch 62/100\n",
      "50000/50000 [==============================] - 3s 52us/step - loss: 0.0768 - acc: 0.9758 - val_loss: 2.9052 - val_acc: 0.5373\n",
      "Epoch 63/100\n",
      "50000/50000 [==============================] - 3s 52us/step - loss: 0.0778 - acc: 0.9757 - val_loss: 3.1518 - val_acc: 0.5491\n",
      "Epoch 64/100\n",
      "50000/50000 [==============================] - 3s 53us/step - loss: 0.0798 - acc: 0.9749 - val_loss: 3.0444 - val_acc: 0.5431\n",
      "Epoch 65/100\n",
      "50000/50000 [==============================] - 3s 53us/step - loss: 0.0823 - acc: 0.9738 - val_loss: 3.3038 - val_acc: 0.5441\n",
      "Epoch 66/100\n",
      "50000/50000 [==============================] - 3s 53us/step - loss: 0.0757 - acc: 0.9770 - val_loss: 3.0126 - val_acc: 0.5329\n",
      "Epoch 67/100\n",
      "50000/50000 [==============================] - 3s 52us/step - loss: 0.0642 - acc: 0.9801 - val_loss: 3.1756 - val_acc: 0.5316\n",
      "Epoch 68/100\n",
      "50000/50000 [==============================] - 3s 53us/step - loss: 0.0688 - acc: 0.9787 - val_loss: 3.2452 - val_acc: 0.5422\n",
      "Epoch 69/100\n",
      "50000/50000 [==============================] - 3s 53us/step - loss: 0.0687 - acc: 0.9789 - val_loss: 3.5813 - val_acc: 0.5319\n",
      "Epoch 70/100\n",
      "50000/50000 [==============================] - 3s 53us/step - loss: 0.0654 - acc: 0.9793 - val_loss: 3.2623 - val_acc: 0.5397\n",
      "Epoch 71/100\n",
      "50000/50000 [==============================] - 3s 53us/step - loss: 0.0637 - acc: 0.9797 - val_loss: 3.2322 - val_acc: 0.5346\n",
      "Epoch 72/100\n",
      "50000/50000 [==============================] - 3s 53us/step - loss: 0.0598 - acc: 0.9816 - val_loss: 3.2937 - val_acc: 0.5367\n",
      "Epoch 73/100\n",
      "50000/50000 [==============================] - 3s 53us/step - loss: 0.0596 - acc: 0.9816 - val_loss: 3.1966 - val_acc: 0.5326\n",
      "Epoch 74/100\n",
      "50000/50000 [==============================] - 3s 52us/step - loss: 0.0822 - acc: 0.9748 - val_loss: 3.0998 - val_acc: 0.5362\n",
      "Epoch 75/100\n",
      "50000/50000 [==============================] - 3s 52us/step - loss: 0.0674 - acc: 0.9793 - val_loss: 3.2079 - val_acc: 0.5402\n",
      "Epoch 76/100\n",
      "50000/50000 [==============================] - 3s 52us/step - loss: 0.0594 - acc: 0.9815 - val_loss: 3.3753 - val_acc: 0.5421\n",
      "Epoch 77/100\n",
      "50000/50000 [==============================] - 3s 52us/step - loss: 0.0585 - acc: 0.9825 - val_loss: 3.2239 - val_acc: 0.5377\n",
      "Epoch 78/100\n",
      "50000/50000 [==============================] - 3s 52us/step - loss: 0.0661 - acc: 0.9799 - val_loss: 3.3625 - val_acc: 0.5404\n",
      "Epoch 79/100\n",
      "50000/50000 [==============================] - 3s 52us/step - loss: 0.0587 - acc: 0.9822 - val_loss: 3.2266 - val_acc: 0.5398\n",
      "Epoch 80/100\n",
      "50000/50000 [==============================] - 3s 52us/step - loss: 0.0679 - acc: 0.9787 - val_loss: 3.2074 - val_acc: 0.5410\n",
      "Epoch 81/100\n",
      "50000/50000 [==============================] - 3s 52us/step - loss: 0.0626 - acc: 0.9802 - val_loss: 3.0786 - val_acc: 0.5377\n",
      "Epoch 82/100\n",
      "50000/50000 [==============================] - 3s 52us/step - loss: 0.0549 - acc: 0.9829 - val_loss: 3.2045 - val_acc: 0.5372\n",
      "Epoch 83/100\n",
      "50000/50000 [==============================] - 3s 53us/step - loss: 0.0611 - acc: 0.9814 - val_loss: 3.2290 - val_acc: 0.5388\n",
      "Epoch 84/100\n",
      "50000/50000 [==============================] - 3s 52us/step - loss: 0.0527 - acc: 0.9833 - val_loss: 3.1851 - val_acc: 0.5409\n",
      "Epoch 85/100\n",
      "50000/50000 [==============================] - 3s 53us/step - loss: 0.0547 - acc: 0.9826 - val_loss: 3.1539 - val_acc: 0.5405\n",
      "Epoch 86/100\n",
      "50000/50000 [==============================] - 3s 53us/step - loss: 0.0501 - acc: 0.9841 - val_loss: 3.3764 - val_acc: 0.5371\n",
      "Epoch 87/100\n",
      "50000/50000 [==============================] - 3s 52us/step - loss: 0.0634 - acc: 0.9804 - val_loss: 3.1996 - val_acc: 0.5399\n",
      "Epoch 88/100\n",
      "50000/50000 [==============================] - 3s 52us/step - loss: 0.0555 - acc: 0.9832 - val_loss: 3.1538 - val_acc: 0.5403\n",
      "Epoch 89/100\n",
      "50000/50000 [==============================] - 3s 53us/step - loss: 0.0523 - acc: 0.9837 - val_loss: 3.3688 - val_acc: 0.5425\n",
      "Epoch 90/100\n",
      "50000/50000 [==============================] - 3s 53us/step - loss: 0.0549 - acc: 0.9827 - val_loss: 3.2745 - val_acc: 0.5338\n",
      "Epoch 91/100\n",
      "50000/50000 [==============================] - 3s 53us/step - loss: 0.0535 - acc: 0.9836 - val_loss: 3.3107 - val_acc: 0.5388\n",
      "Epoch 92/100\n",
      "50000/50000 [==============================] - 3s 53us/step - loss: 0.0558 - acc: 0.9824 - val_loss: 3.3388 - val_acc: 0.5418\n",
      "Epoch 93/100\n",
      "50000/50000 [==============================] - 3s 53us/step - loss: 0.0504 - acc: 0.9847 - val_loss: 3.4715 - val_acc: 0.5356\n",
      "Epoch 94/100\n",
      "50000/50000 [==============================] - 3s 53us/step - loss: 0.0541 - acc: 0.9835 - val_loss: 3.4122 - val_acc: 0.5396\n",
      "Epoch 95/100\n",
      "50000/50000 [==============================] - 3s 53us/step - loss: 0.0593 - acc: 0.9826 - val_loss: 3.3232 - val_acc: 0.5405\n",
      "Epoch 96/100\n",
      "50000/50000 [==============================] - 3s 53us/step - loss: 0.0514 - acc: 0.9844 - val_loss: 3.3849 - val_acc: 0.5447\n",
      "Epoch 97/100\n",
      "50000/50000 [==============================] - 3s 53us/step - loss: 0.0483 - acc: 0.9850 - val_loss: 3.1910 - val_acc: 0.5386\n",
      "Epoch 98/100\n",
      "50000/50000 [==============================] - 3s 53us/step - loss: 0.0495 - acc: 0.9851 - val_loss: 3.1314 - val_acc: 0.5381\n",
      "Epoch 99/100\n",
      "50000/50000 [==============================] - 3s 53us/step - loss: 0.0481 - acc: 0.9848 - val_loss: 3.7236 - val_acc: 0.5394\n",
      "Epoch 100/100\n",
      "50000/50000 [==============================] - 3s 53us/step - loss: 0.0484 - acc: 0.9849 - val_loss: 3.4313 - val_acc: 0.5424\n"
     ]
    },
    {
     "data": {
      "text/plain": [
       "<keras.callbacks.History at 0x2a0ec3aeda0>"
      ]
     },
     "execution_count": 26,
     "metadata": {},
     "output_type": "execute_result"
    }
   ],
   "source": [
    "model.fit(x_train, y_train, \n",
    "          epochs=EPOCHS, \n",
    "          batch_size=BATCH_SIZE, \n",
    "          validation_data=(x_test, y_test), \n",
    "          shuffle=True)"
   ]
  },
  {
   "cell_type": "code",
   "execution_count": 12,
   "metadata": {},
   "outputs": [
    {
     "data": {
      "image/png": "[encoded data removed]",
      "text/plain": [
       "<Figure size 432x288 with 1 Axes>"
      ]
     },
     "metadata": {},
     "output_type": "display_data"
    },
    {
     "data": {
      "image/png": "[encoded data removed]",
      "text/plain": [
       "<Figure size 432x288 with 1 Axes>"
      ]
     },
     "metadata": {},
     "output_type": "display_data"
    }
   ],
   "source": [
    "import matplotlib.pyplot as plt\n",
    "\n",
    "\n",
    "train_loss = model.history.history[\"loss\"]\n",
    "valid_loss = model.history.history[\"val_loss\"]\n",
    "\n",
    "train_acc = model.history.history[\"acc\"]\n",
    "valid_acc = model.history.history[\"val_acc\"]\n",
    "\n",
    "plt.plot(range(len(train_loss)), train_loss, label=\"train loss\")\n",
    "plt.plot(range(len(valid_loss)), valid_loss, label=\"valid loss\")\n",
    "plt.legend()\n",
    "plt.title(\"Loss\")\n",
    "plt.show()\n",
    "\n",
    "plt.plot(range(len(train_acc)), train_acc, label=\"train accuracy\")\n",
    "plt.plot(range(len(valid_acc)), valid_acc, label=\"valid accuracy\")\n",
    "plt.legend()\n",
    "plt.title(\"Accuracy\")\n",
    "plt.show()"
   ]
  },
  {
   "cell_type": "code",
   "execution_count": 28,
   "metadata": {},
   "outputs": [
    {
     "data": {
      "image/png": "[encoded data removed]",
      "text/plain": [
       "<Figure size 432x288 with 1 Axes>"
      ]
     },
     "metadata": {
      "needs_background": "light"
     },
     "output_type": "display_data"
    },
    {
     "data": {
      "image/png": "[encoded data removed]",
      "text/plain": [
       "<Figure size 432x288 with 1 Axes>"
      ]
     },
     "metadata": {
      "needs_background": "light"
     },
     "output_type": "display_data"
    }
   ],
   "source": [
    "import matplotlib.pyplot as plt\n",
    "\n",
    "\n",
    "train_loss = model.history.history[\"loss\"]\n",
    "valid_loss = model.history.history[\"val_loss\"]\n",
    "\n",
    "train_acc = model.history.history[\"acc\"]\n",
    "valid_acc = model.history.history[\"val_acc\"]\n",
    "\n",
    "plt.plot(range(len(train_loss)), train_loss, label=\"train loss\")\n",
    "plt.plot(range(len(valid_loss)), valid_loss, label=\"valid loss\")\n",
    "plt.legend()\n",
    "plt.title(\"Loss\")\n",
    "plt.show()\n",
    "\n",
    "plt.plot(range(len(train_acc)), train_acc, label=\"train accuracy\")\n",
    "plt.plot(range(len(valid_acc)), valid_acc, label=\"valid accuracy\")\n",
    "plt.legend()\n",
    "plt.title(\"Accuracy\")\n",
    "plt.show()"
   ]
  },
  {
   "cell_type": "code",
   "execution_count": null,
   "metadata": {},
   "outputs": [],
   "source": []
  }
 ],
 "metadata": {
  "kernelspec": {
   "display_name": "Python 3",
   "language": "python",
   "name": "python3"
  },
  "language_info": {
   "codemirror_mode": {
    "name": "ipython",
    "version": 3
   },
   "file_extension": ".py",
   "mimetype": "text/x-python",
   "name": "python",
   "nbconvert_exporter": "python",
   "pygments_lexer": "ipython3",
   "version": "3.7.3"
  }
 },
 "nbformat": 4,
 "nbformat_minor": 2
}
