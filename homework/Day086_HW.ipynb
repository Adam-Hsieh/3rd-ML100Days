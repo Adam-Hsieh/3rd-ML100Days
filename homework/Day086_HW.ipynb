{
 "cells": [
  {
   "cell_type": "markdown",
   "metadata": {},
   "source": [
    "## Work\n",
    "1. 試比較 save_best_only 與否的差異\n",
    "2. 請僅存入將 save_weights_only 設定為 True, 並嘗試 reset ipynb 並將模型與權重重新建回並預測 x_test"
   ]
  },
  {
   "cell_type": "code",
   "execution_count": 1,
   "metadata": {},
   "outputs": [
    {
     "name": "stderr",
     "output_type": "stream",
     "text": [
      "Using TensorFlow backend.\n"
     ]
    }
   ],
   "source": [
    "import os\n",
    "import keras\n",
    "\n",
    "# Disable GPU\n",
    "os.environ[\"CUDA_VISIBLE_DEVICES\"] = \"0\""
   ]
  },
  {
   "cell_type": "code",
   "execution_count": 2,
   "metadata": {},
   "outputs": [],
   "source": [
    "train, test = keras.datasets.cifar10.load_data()"
   ]
  },
  {
   "cell_type": "code",
   "execution_count": 3,
   "metadata": {},
   "outputs": [],
   "source": [
    "## 資料前處理\n",
    "def preproc_x(x, flatten=True):\n",
    "    x = x / 255.\n",
    "    if flatten:\n",
    "        x = x.reshape((len(x), -1))\n",
    "    return x\n",
    "\n",
    "def preproc_y(y, num_classes=10):\n",
    "    if y.shape[-1] == 1:\n",
    "        y = keras.utils.to_categorical(y, num_classes)\n",
    "    return y    "
   ]
  },
  {
   "cell_type": "code",
   "execution_count": 4,
   "metadata": {},
   "outputs": [],
   "source": [
    "x_train, y_train = train\n",
    "x_test, y_test = test\n",
    "\n",
    "# Preproc the inputs\n",
    "x_train = preproc_x(x_train)\n",
    "x_test = preproc_x(x_test)\n",
    "\n",
    "# Preprc the outputs\n",
    "y_train = preproc_y(y_train)\n",
    "y_test = preproc_y(y_test)"
   ]
  },
  {
   "cell_type": "code",
   "execution_count": 5,
   "metadata": {},
   "outputs": [],
   "source": [
    "from keras.layers import BatchNormalization\n",
    "\n",
    "\"\"\"\n",
    "建立神經網路，並加入 BN layer\n",
    "\"\"\"\n",
    "def build_mlp(input_shape, output_units=10, num_neurons=[512, 256, 128]):\n",
    "    input_layer = keras.layers.Input(input_shape)\n",
    "    \n",
    "    for i, n_units in enumerate(num_neurons):\n",
    "        if i == 0:\n",
    "            x = keras.layers.Dense(units=n_units, \n",
    "                                   activation=\"relu\", \n",
    "                                   name=\"hidden_layer\"+str(i+1))(input_layer)\n",
    "            x = BatchNormalization()(x)\n",
    "        else:\n",
    "            x = keras.layers.Dense(units=n_units, \n",
    "                                   activation=\"relu\", \n",
    "                                   name=\"hidden_layer\"+str(i+1))(x)\n",
    "            x = BatchNormalization()(x)\n",
    "    \n",
    "    out = keras.layers.Dense(units=output_units, activation=\"softmax\", name=\"output\")(x)\n",
    "    \n",
    "    model = keras.models.Model(inputs=[input_layer], outputs=[out])\n",
    "    return model"
   ]
  },
  {
   "cell_type": "code",
   "execution_count": 6,
   "metadata": {},
   "outputs": [],
   "source": [
    "## 超參數設定\n",
    "LEARNING_RATE = 1e-3\n",
    "EPOCHS = 50\n",
    "BATCH_SIZE = 1024\n",
    "MOMENTUM = 0.95"
   ]
  },
  {
   "cell_type": "code",
   "execution_count": 7,
   "metadata": {},
   "outputs": [
    {
     "name": "stderr",
     "output_type": "stream",
     "text": [
      "WARNING: Logging before flag parsing goes to stderr.\n",
      "W0426 10:45:35.135623 14172 deprecation_wrapper.py:119] From D:\\Anaconda3\\lib\\site-packages\\keras\\backend\\tensorflow_backend.py:74: The name tf.get_default_graph is deprecated. Please use tf.compat.v1.get_default_graph instead.\n",
      "\n",
      "W0426 10:45:35.147625 14172 deprecation_wrapper.py:119] From D:\\Anaconda3\\lib\\site-packages\\keras\\backend\\tensorflow_backend.py:517: The name tf.placeholder is deprecated. Please use tf.compat.v1.placeholder instead.\n",
      "\n",
      "W0426 10:45:35.149623 14172 deprecation_wrapper.py:119] From D:\\Anaconda3\\lib\\site-packages\\keras\\backend\\tensorflow_backend.py:4138: The name tf.random_uniform is deprecated. Please use tf.random.uniform instead.\n",
      "\n",
      "W0426 10:45:35.214653 14172 deprecation_wrapper.py:119] From D:\\Anaconda3\\lib\\site-packages\\keras\\backend\\tensorflow_backend.py:133: The name tf.placeholder_with_default is deprecated. Please use tf.compat.v1.placeholder_with_default instead.\n",
      "\n",
      "W0426 10:45:35.390652 14172 deprecation_wrapper.py:119] From D:\\Anaconda3\\lib\\site-packages\\keras\\optimizers.py:790: The name tf.train.Optimizer is deprecated. Please use tf.compat.v1.train.Optimizer instead.\n",
      "\n",
      "W0426 10:45:35.396652 14172 deprecation_wrapper.py:119] From D:\\Anaconda3\\lib\\site-packages\\keras\\backend\\tensorflow_backend.py:3295: The name tf.log is deprecated. Please use tf.math.log instead.\n",
      "\n",
      "W0426 10:45:35.473652 14172 deprecation.py:323] From D:\\Anaconda3\\lib\\site-packages\\tensorflow\\python\\ops\\math_grad.py:1250: add_dispatch_support.<locals>.wrapper (from tensorflow.python.ops.array_ops) is deprecated and will be removed in a future version.\n",
      "Instructions for updating:\n",
      "Use tf.where in 2.0, which has the same broadcast rule as np.where\n"
     ]
    },
    {
     "name": "stdout",
     "output_type": "stream",
     "text": [
      "_________________________________________________________________\n",
      "Layer (type)                 Output Shape              Param #   \n",
      "=================================================================\n",
      "input_1 (InputLayer)         (None, 3072)              0         \n",
      "_________________________________________________________________\n",
      "hidden_layer1 (Dense)        (None, 512)               1573376   \n",
      "_________________________________________________________________\n",
      "batch_normalization_1 (Batch (None, 512)               2048      \n",
      "_________________________________________________________________\n",
      "hidden_layer2 (Dense)        (None, 256)               131328    \n",
      "_________________________________________________________________\n",
      "batch_normalization_2 (Batch (None, 256)               1024      \n",
      "_________________________________________________________________\n",
      "hidden_layer3 (Dense)        (None, 128)               32896     \n",
      "_________________________________________________________________\n",
      "batch_normalization_3 (Batch (None, 128)               512       \n",
      "_________________________________________________________________\n",
      "output (Dense)               (None, 10)                1290      \n",
      "=================================================================\n",
      "Total params: 1,742,474\n",
      "Trainable params: 1,740,682\n",
      "Non-trainable params: 1,792\n",
      "_________________________________________________________________\n",
      "Train on 50000 samples, validate on 10000 samples\n",
      "Epoch 1/50\n",
      "50000/50000 [==============================] - 3s 65us/step - loss: 2.2206 - acc: 0.2697 - val_loss: 2.0412 - val_acc: 0.3305\n",
      "Epoch 2/50\n",
      "50000/50000 [==============================] - 2s 32us/step - loss: 1.7364 - acc: 0.3962 - val_loss: 1.8106 - val_acc: 0.3781\n",
      "Epoch 3/50\n",
      "50000/50000 [==============================] - 2s 32us/step - loss: 1.6142 - acc: 0.4345 - val_loss: 1.6826 - val_acc: 0.4123\n",
      "Epoch 4/50\n",
      "50000/50000 [==============================] - 2s 32us/step - loss: 1.5422 - acc: 0.4592 - val_loss: 1.6371 - val_acc: 0.4273\n",
      "Epoch 5/50\n",
      "50000/50000 [==============================] - 2s 32us/step - loss: 1.4875 - acc: 0.4787 - val_loss: 1.6036 - val_acc: 0.4394\n",
      "Epoch 6/50\n",
      "50000/50000 [==============================] - 2s 32us/step - loss: 1.4449 - acc: 0.4925 - val_loss: 1.5654 - val_acc: 0.4458\n",
      "Epoch 7/50\n",
      "50000/50000 [==============================] - 2s 32us/step - loss: 1.4069 - acc: 0.5072 - val_loss: 1.5475 - val_acc: 0.4554\n",
      "Epoch 8/50\n",
      "50000/50000 [==============================] - 2s 32us/step - loss: 1.3736 - acc: 0.5192 - val_loss: 1.5310 - val_acc: 0.4650\n",
      "Epoch 9/50\n",
      "50000/50000 [==============================] - 2s 31us/step - loss: 1.3424 - acc: 0.5313 - val_loss: 1.5158 - val_acc: 0.4696\n",
      "Epoch 10/50\n",
      "50000/50000 [==============================] - 2s 31us/step - loss: 1.3139 - acc: 0.5413 - val_loss: 1.5153 - val_acc: 0.4678\n",
      "Epoch 11/50\n",
      "50000/50000 [==============================] - 2s 31us/step - loss: 1.2863 - acc: 0.5524 - val_loss: 1.4947 - val_acc: 0.4749\n",
      "Epoch 12/50\n",
      "50000/50000 [==============================] - 2s 31us/step - loss: 1.2594 - acc: 0.5610 - val_loss: 1.5055 - val_acc: 0.4730\n",
      "Epoch 13/50\n",
      "50000/50000 [==============================] - 2s 31us/step - loss: 1.2347 - acc: 0.5702 - val_loss: 1.4770 - val_acc: 0.4845\n",
      "Epoch 14/50\n",
      "50000/50000 [==============================] - 2s 32us/step - loss: 1.2089 - acc: 0.5791 - val_loss: 1.4745 - val_acc: 0.4825\n",
      "Epoch 15/50\n",
      "50000/50000 [==============================] - 2s 31us/step - loss: 1.1864 - acc: 0.5884 - val_loss: 1.4692 - val_acc: 0.4902\n",
      "Epoch 16/50\n",
      "50000/50000 [==============================] - 2s 32us/step - loss: 1.1616 - acc: 0.5970 - val_loss: 1.4636 - val_acc: 0.4932\n",
      "Epoch 17/50\n",
      "50000/50000 [==============================] - 2s 32us/step - loss: 1.1392 - acc: 0.6053 - val_loss: 1.4734 - val_acc: 0.4913\n",
      "Epoch 18/50\n",
      "50000/50000 [==============================] - 2s 31us/step - loss: 1.1175 - acc: 0.6147 - val_loss: 1.4582 - val_acc: 0.4932\n",
      "Epoch 19/50\n",
      "50000/50000 [==============================] - 2s 31us/step - loss: 1.0953 - acc: 0.6206 - val_loss: 1.4664 - val_acc: 0.4956\n",
      "Epoch 20/50\n",
      "50000/50000 [==============================] - 2s 31us/step - loss: 1.0715 - acc: 0.6323 - val_loss: 1.4580 - val_acc: 0.4931\n",
      "Epoch 21/50\n",
      "50000/50000 [==============================] - 2s 31us/step - loss: 1.0525 - acc: 0.6391 - val_loss: 1.4604 - val_acc: 0.4941\n",
      "Epoch 22/50\n",
      "50000/50000 [==============================] - 2s 31us/step - loss: 1.0302 - acc: 0.6474 - val_loss: 1.4637 - val_acc: 0.4936\n",
      "Epoch 23/50\n",
      "50000/50000 [==============================] - 2s 31us/step - loss: 1.0109 - acc: 0.6557 - val_loss: 1.4663 - val_acc: 0.5030\n",
      "Epoch 24/50\n",
      "50000/50000 [==============================] - 2s 31us/step - loss: 0.9894 - acc: 0.6623 - val_loss: 1.4759 - val_acc: 0.4917\n",
      "Epoch 25/50\n",
      "50000/50000 [==============================] - 2s 31us/step - loss: 0.9685 - acc: 0.6728 - val_loss: 1.4665 - val_acc: 0.5026\n",
      "Epoch 26/50\n",
      "50000/50000 [==============================] - 2s 31us/step - loss: 0.9481 - acc: 0.6791 - val_loss: 1.4675 - val_acc: 0.5033\n",
      "Epoch 27/50\n",
      "50000/50000 [==============================] - 2s 31us/step - loss: 0.9277 - acc: 0.6885 - val_loss: 1.4752 - val_acc: 0.4998\n",
      "Epoch 28/50\n",
      "50000/50000 [==============================] - 2s 31us/step - loss: 0.9054 - acc: 0.6982 - val_loss: 1.4812 - val_acc: 0.5008\n",
      "Epoch 29/50\n",
      "50000/50000 [==============================] - 2s 31us/step - loss: 0.8866 - acc: 0.7049 - val_loss: 1.4736 - val_acc: 0.5034\n",
      "Epoch 30/50\n",
      "50000/50000 [==============================] - 2s 31us/step - loss: 0.8683 - acc: 0.7113 - val_loss: 1.4975 - val_acc: 0.5008\n",
      "Epoch 31/50\n",
      "50000/50000 [==============================] - 2s 31us/step - loss: 0.8482 - acc: 0.7190 - val_loss: 1.5024 - val_acc: 0.4957\n",
      "Epoch 32/50\n",
      "50000/50000 [==============================] - 2s 31us/step - loss: 0.8305 - acc: 0.7268 - val_loss: 1.4898 - val_acc: 0.5008\n",
      "Epoch 33/50\n",
      "50000/50000 [==============================] - 2s 31us/step - loss: 0.8081 - acc: 0.7379 - val_loss: 1.5076 - val_acc: 0.5030\n",
      "Epoch 34/50\n",
      "50000/50000 [==============================] - 2s 31us/step - loss: 0.7880 - acc: 0.7448 - val_loss: 1.4963 - val_acc: 0.5044\n",
      "Epoch 35/50\n",
      "50000/50000 [==============================] - 2s 31us/step - loss: 0.7696 - acc: 0.7507 - val_loss: 1.5172 - val_acc: 0.5006\n",
      "Epoch 36/50\n",
      "50000/50000 [==============================] - 2s 31us/step - loss: 0.7507 - acc: 0.7585 - val_loss: 1.5344 - val_acc: 0.5020\n",
      "Epoch 37/50\n",
      "50000/50000 [==============================] - 2s 31us/step - loss: 0.7331 - acc: 0.7657 - val_loss: 1.5500 - val_acc: 0.4923\n",
      "Epoch 38/50\n",
      "50000/50000 [==============================] - 2s 31us/step - loss: 0.7135 - acc: 0.7737 - val_loss: 1.5311 - val_acc: 0.5004\n",
      "Epoch 39/50\n",
      "50000/50000 [==============================] - 2s 31us/step - loss: 0.6952 - acc: 0.7805 - val_loss: 1.5410 - val_acc: 0.5015\n",
      "Epoch 40/50\n",
      "50000/50000 [==============================] - 2s 31us/step - loss: 0.6780 - acc: 0.7880 - val_loss: 1.5910 - val_acc: 0.4917\n",
      "Epoch 41/50\n",
      "50000/50000 [==============================] - 2s 31us/step - loss: 0.6594 - acc: 0.7946 - val_loss: 1.5756 - val_acc: 0.5045\n",
      "Epoch 42/50\n",
      "50000/50000 [==============================] - 2s 31us/step - loss: 0.6387 - acc: 0.8037 - val_loss: 1.5783 - val_acc: 0.4998\n",
      "Epoch 43/50\n",
      "50000/50000 [==============================] - 2s 31us/step - loss: 0.6226 - acc: 0.8097 - val_loss: 1.5826 - val_acc: 0.5001\n",
      "Epoch 44/50\n",
      "50000/50000 [==============================] - 2s 31us/step - loss: 0.6038 - acc: 0.8193 - val_loss: 1.5892 - val_acc: 0.4999\n",
      "Epoch 45/50\n",
      "50000/50000 [==============================] - 2s 31us/step - loss: 0.5848 - acc: 0.8261 - val_loss: 1.6126 - val_acc: 0.4995\n",
      "Epoch 46/50\n",
      "50000/50000 [==============================] - 2s 31us/step - loss: 0.5687 - acc: 0.8330 - val_loss: 1.6235 - val_acc: 0.4963\n",
      "Epoch 47/50\n",
      "50000/50000 [==============================] - 2s 31us/step - loss: 0.5519 - acc: 0.8382 - val_loss: 1.6385 - val_acc: 0.4943\n",
      "Epoch 48/50\n",
      "50000/50000 [==============================] - 2s 32us/step - loss: 0.5340 - acc: 0.8442 - val_loss: 1.6497 - val_acc: 0.4917\n",
      "Epoch 49/50\n",
      "50000/50000 [==============================] - 2s 31us/step - loss: 0.5169 - acc: 0.8528 - val_loss: 1.6599 - val_acc: 0.4927\n"
     ]
    },
    {
     "name": "stdout",
     "output_type": "stream",
     "text": [
      "Epoch 50/50\n",
      "50000/50000 [==============================] - 2s 31us/step - loss: 0.5003 - acc: 0.8593 - val_loss: 1.6765 - val_acc: 0.4973\n",
      "10000/10000 [==============================] - 0s 49us/step\n"
     ]
    }
   ],
   "source": [
    "# 載入 Callbacks\n",
    "\"\"\"Code Here\n",
    "設定 callbacks: model checkpoint\n",
    "\"\"\"\n",
    "\"\"\"\n",
    "# 載入 Callbacks, 並將監控目標設為 validation loss, 且只存最佳參數時的模型\n",
    "\"\"\"\n",
    "from keras.callbacks import ModelCheckpoint\n",
    "\n",
    "model_ckpt = ModelCheckpoint(filepath=\"./tmp.h5\", \n",
    "                             monitor=\"val_loss\", \n",
    "                             save_best_only=True)\n",
    "results = {}\n",
    "\"\"\"Code Here\n",
    "撰寫你的訓練流程並將結果用 dictionary 紀錄\n",
    "\"\"\"\n",
    "\n",
    "model = build_mlp(input_shape=x_train.shape[1:])\n",
    "model.summary()\n",
    "optimizer = keras.optimizers.SGD(lr=LEARNING_RATE, nesterov=True, momentum=MOMENTUM)\n",
    "model.compile(loss=\"categorical_crossentropy\", metrics=[\"accuracy\"], optimizer=optimizer)\n",
    "\n",
    "model.fit(x_train, y_train, \n",
    "          epochs=EPOCHS, \n",
    "          batch_size=BATCH_SIZE, \n",
    "          validation_data=(x_test, y_test), \n",
    "          shuffle=True,\n",
    "          callbacks=[model_ckpt]\n",
    "         )\n",
    "\n",
    "# Collect results\n",
    "train_loss = model.history.history[\"loss\"]\n",
    "valid_loss = model.history.history[\"val_loss\"]\n",
    "train_acc = model.history.history[\"acc\"]\n",
    "valid_acc = model.history.history[\"val_acc\"]\n",
    "\n",
    "# Load back\n",
    "model = keras.models.load_model(\"./tmp.h5\")\n",
    "loss_loadback, acc_loadback = model.evaluate(x_test, y_test)"
   ]
  },
  {
   "cell_type": "code",
   "execution_count": 9,
   "metadata": {
    "scrolled": false
   },
   "outputs": [
    {
     "name": "stdout",
     "output_type": "stream",
     "text": [
      "1.4579716403961183 0.4931\n"
     ]
    },
    {
     "data": {
      "image/png": "[encoded data removed]",
      "text/plain": [
       "<Figure size 432x288 with 1 Axes>"
      ]
     },
     "metadata": {
      "needs_background": "light"
     },
     "output_type": "display_data"
    },
    {
     "data": {
      "image/png": "[encoded data removed]",
      "text/plain": [
       "<Figure size 432x288 with 1 Axes>"
      ]
     },
     "metadata": {
      "needs_background": "light"
     },
     "output_type": "display_data"
    }
   ],
   "source": [
    "print(loss_loadback, acc_loadback)\n",
    "import matplotlib.pyplot as plt\n",
    "%matplotlib inline\n",
    "\"\"\"Code Here\n",
    "將結果繪出\n",
    "\"\"\"\n",
    "\n",
    "import matplotlib.pyplot as plt\n",
    "%matplotlib inline\n",
    "\n",
    "plt.plot(range(len(train_loss)), train_loss, label=\"train loss\")\n",
    "plt.plot(range(len(valid_loss)), valid_loss, label=\"valid loss\")\n",
    "plt.hlines(y=loss_loadback, xmin=0, xmax=len(train_loss), colors='r', linestyles='--')\n",
    "plt.legend()\n",
    "plt.title(\"Loss\")\n",
    "plt.show()\n",
    "\n",
    "plt.plot(range(len(train_acc)), train_acc, label=\"train accuracy\")\n",
    "plt.plot(range(len(valid_acc)), valid_acc, label=\"valid accuracy\")\n",
    "plt.hlines(y=acc_loadback, xmin=0, xmax=len(train_loss), colors='r', linestyles='--')\n",
    "plt.legend()\n",
    "plt.title(\"Accuracy\")\n",
    "plt.show()"
   ]
  },
  {
   "cell_type": "code",
   "execution_count": null,
   "metadata": {},
   "outputs": [],
   "source": []
  }
 ],
 "metadata": {
  "kernelspec": {
   "display_name": "Python 3",
   "language": "python",
   "name": "python3"
  },
  "language_info": {
   "codemirror_mode": {
    "name": "ipython",
    "version": 3
   },
   "file_extension": ".py",
   "mimetype": "text/x-python",
   "name": "python",
   "nbconvert_exporter": "python",
   "pygments_lexer": "ipython3",
   "version": "3.7.3"
  }
 },
 "nbformat": 4,
 "nbformat_minor": 2
}
