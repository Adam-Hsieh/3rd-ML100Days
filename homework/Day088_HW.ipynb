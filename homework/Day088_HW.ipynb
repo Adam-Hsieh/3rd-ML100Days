{
 "cells": [
  {
   "cell_type": "markdown",
   "metadata": {},
   "source": [
    "## Work\n",
    "1. 請嘗試寫一個 callback 用來記錄各類別在訓練過程中，對驗證集的 True Positive 與 True Negative"
   ]
  },
  {
   "cell_type": "code",
   "execution_count": 1,
   "metadata": {},
   "outputs": [
    {
     "name": "stderr",
     "output_type": "stream",
     "text": [
      "Using TensorFlow backend.\n"
     ]
    }
   ],
   "source": [
    "import os\n",
    "import keras\n",
    "\n",
    "# Disable GPU\n",
    "os.environ[\"CUDA_VISIBLE_DEVICES\"] = \"0\""
   ]
  },
  {
   "cell_type": "code",
   "execution_count": 2,
   "metadata": {},
   "outputs": [],
   "source": [
    "train, test = keras.datasets.cifar10.load_data()"
   ]
  },
  {
   "cell_type": "code",
   "execution_count": 3,
   "metadata": {},
   "outputs": [],
   "source": [
    "## 資料前處理\n",
    "def preproc_x(x, flatten=True):\n",
    "    x = x / 255.\n",
    "    if flatten:\n",
    "        x = x.reshape((len(x), -1))\n",
    "    return x\n",
    "\n",
    "def preproc_y(y, num_classes=10):\n",
    "    if y.shape[-1] == 1:\n",
    "        y = keras.utils.to_categorical(y, num_classes)\n",
    "    return y    "
   ]
  },
  {
   "cell_type": "code",
   "execution_count": 4,
   "metadata": {},
   "outputs": [],
   "source": [
    "x_train, y_train = train\n",
    "x_test, y_test = test\n",
    "\n",
    "# Preproc the inputs\n",
    "x_train = preproc_x(x_train)\n",
    "x_test = preproc_x(x_test)\n",
    "\n",
    "# Preprc the outputs\n",
    "y_train = preproc_y(y_train)\n",
    "y_test = preproc_y(y_test)"
   ]
  },
  {
   "cell_type": "code",
   "execution_count": 5,
   "metadata": {},
   "outputs": [],
   "source": [
    "from keras.layers import BatchNormalization\n",
    "\n",
    "\"\"\"\n",
    "建立神經網路，並加入 BN layer\n",
    "\"\"\"\n",
    "def build_mlp(input_shape, output_units=10, num_neurons=[512, 256, 128]):\n",
    "    input_layer = keras.layers.Input(input_shape)\n",
    "    \n",
    "    for i, n_units in enumerate(num_neurons):\n",
    "        if i == 0:\n",
    "            x = keras.layers.Dense(units=n_units, \n",
    "                                   activation=\"relu\", \n",
    "                                   name=\"hidden_layer\"+str(i+1))(input_layer)\n",
    "            x = BatchNormalization()(x)\n",
    "        else:\n",
    "            x = keras.layers.Dense(units=n_units, \n",
    "                                   activation=\"relu\", \n",
    "                                   name=\"hidden_layer\"+str(i+1))(x)\n",
    "            x = BatchNormalization()(x)\n",
    "    \n",
    "    out = keras.layers.Dense(units=output_units, activation=\"softmax\", name=\"output\")(x)\n",
    "    \n",
    "    model = keras.models.Model(inputs=[input_layer], outputs=[out])\n",
    "    return model"
   ]
  },
  {
   "cell_type": "code",
   "execution_count": 39,
   "metadata": {},
   "outputs": [],
   "source": [
    "## 超參數設定\n",
    "LEARNING_RATE = 1e-3\n",
    "EPOCHS = 25\n",
    "BATCH_SIZE = 1024\n",
    "MOMENTUM = 0.95"
   ]
  },
  {
   "cell_type": "code",
   "execution_count": 40,
   "metadata": {},
   "outputs": [],
   "source": [
    "# 載入 Callbacks\n",
    "from keras.callbacks import Callback\n",
    "\n",
    "# Record_fp_tp\n",
    "class Record_tp_tn(Callback):\n",
    "    \"\"\"Code Here\n",
    "    撰寫一個紀錄 ture positive 與 true negative 數量的 callbacks    \n",
    "    \"\"\"\n",
    "    def on_train_begin(self, epoch, logs = {}):\n",
    "        logs = logs or {}\n",
    "        record_items = [\"val_tp\", \"val_tn\"]\n",
    "        for i in record_items:\n",
    "            if i not in self.params['metrics']:\n",
    "                self.params['metrics'].append(i)\n",
    "    \n",
    "    def on_epoch_end(self, epoch, logs = {}, thres=0.5):\n",
    "        logs = logs or {}\n",
    "        y_true = self.validation_data[1].argmax(axis = 1)\n",
    "        y_pred = self.model.predict(self.validation_data[0])\n",
    "        y_pred = (y_pred[:, 1] >= thres) * 1\n",
    "        \n",
    "        tf_li = np.equal(y_true, y_pred)\n",
    "        uni, count = np.unique(tf_li, return_counts=True)\n",
    "        logs[\"val_tp\"] = count[1]\n",
    "        logs[\"val_tn\"] = count[0]\n",
    "        \n",
    "rec_tptn = Record_tp_tn()"
   ]
  },
  {
   "cell_type": "code",
   "execution_count": 41,
   "metadata": {
    "scrolled": false
   },
   "outputs": [
    {
     "name": "stdout",
     "output_type": "stream",
     "text": [
      "_________________________________________________________________\n",
      "Layer (type)                 Output Shape              Param #   \n",
      "=================================================================\n",
      "input_3 (InputLayer)         (None, 3072)              0         \n",
      "_________________________________________________________________\n",
      "hidden_layer1 (Dense)        (None, 512)               1573376   \n",
      "_________________________________________________________________\n",
      "batch_normalization_7 (Batch (None, 512)               2048      \n",
      "_________________________________________________________________\n",
      "hidden_layer2 (Dense)        (None, 256)               131328    \n",
      "_________________________________________________________________\n",
      "batch_normalization_8 (Batch (None, 256)               1024      \n",
      "_________________________________________________________________\n",
      "hidden_layer3 (Dense)        (None, 128)               32896     \n",
      "_________________________________________________________________\n",
      "batch_normalization_9 (Batch (None, 128)               512       \n",
      "_________________________________________________________________\n",
      "output (Dense)               (None, 10)                1290      \n",
      "=================================================================\n",
      "Total params: 1,742,474\n",
      "Trainable params: 1,740,682\n",
      "Non-trainable params: 1,792\n",
      "_________________________________________________________________\n",
      "Train on 50000 samples, validate on 10000 samples\n",
      "Epoch 1/25\n",
      "50000/50000 [==============================] - 2s 46us/step - loss: 2.1935 - acc: 0.2736 - val_loss: 2.0796 - val_acc: 0.3306\n",
      "Epoch 2/25\n",
      "50000/50000 [==============================] - 2s 32us/step - loss: 1.7426 - acc: 0.3953 - val_loss: 1.7930 - val_acc: 0.3924\n",
      "Epoch 3/25\n",
      "50000/50000 [==============================] - 2s 31us/step - loss: 1.6229 - acc: 0.4345 - val_loss: 1.6883 - val_acc: 0.4186\n",
      "Epoch 4/25\n",
      "50000/50000 [==============================] - 2s 32us/step - loss: 1.5501 - acc: 0.4581 - val_loss: 1.6248 - val_acc: 0.4424\n",
      "Epoch 5/25\n",
      "50000/50000 [==============================] - 2s 31us/step - loss: 1.4950 - acc: 0.4797 - val_loss: 1.5914 - val_acc: 0.4413\n",
      "Epoch 6/25\n",
      "50000/50000 [==============================] - 2s 31us/step - loss: 1.4523 - acc: 0.4934 - val_loss: 1.5629 - val_acc: 0.4581\n",
      "Epoch 7/25\n",
      "50000/50000 [==============================] - 2s 31us/step - loss: 1.4119 - acc: 0.5082 - val_loss: 1.5404 - val_acc: 0.4611\n",
      "Epoch 8/25\n",
      "50000/50000 [==============================] - 2s 31us/step - loss: 1.3768 - acc: 0.5196 - val_loss: 1.5382 - val_acc: 0.4623\n",
      "Epoch 9/25\n",
      "50000/50000 [==============================] - 2s 31us/step - loss: 1.3450 - acc: 0.5313 - val_loss: 1.5174 - val_acc: 0.4717\n",
      "Epoch 10/25\n",
      "50000/50000 [==============================] - 2s 31us/step - loss: 1.3128 - acc: 0.5435 - val_loss: 1.4968 - val_acc: 0.4765\n",
      "Epoch 11/25\n",
      "50000/50000 [==============================] - 2s 31us/step - loss: 1.2854 - acc: 0.5532 - val_loss: 1.5006 - val_acc: 0.4777\n",
      "Epoch 12/25\n",
      "50000/50000 [==============================] - 2s 33us/step - loss: 1.2591 - acc: 0.5622 - val_loss: 1.4871 - val_acc: 0.4787\n",
      "Epoch 13/25\n",
      "50000/50000 [==============================] - 2s 32us/step - loss: 1.2340 - acc: 0.5739 - val_loss: 1.4953 - val_acc: 0.4801\n",
      "Epoch 14/25\n",
      "50000/50000 [==============================] - 2s 31us/step - loss: 1.2079 - acc: 0.5825 - val_loss: 1.4810 - val_acc: 0.4854\n",
      "Epoch 15/25\n",
      "50000/50000 [==============================] - 2s 31us/step - loss: 1.1849 - acc: 0.5912 - val_loss: 1.4652 - val_acc: 0.4894\n",
      "Epoch 16/25\n",
      "50000/50000 [==============================] - 2s 31us/step - loss: 1.1606 - acc: 0.6010 - val_loss: 1.4788 - val_acc: 0.4917\n",
      "Epoch 17/25\n",
      "50000/50000 [==============================] - 2s 31us/step - loss: 1.1377 - acc: 0.6098 - val_loss: 1.4654 - val_acc: 0.4892\n",
      "Epoch 18/25\n",
      "50000/50000 [==============================] - 2s 32us/step - loss: 1.1159 - acc: 0.6179 - val_loss: 1.4520 - val_acc: 0.4937\n",
      "Epoch 19/25\n",
      "50000/50000 [==============================] - 2s 31us/step - loss: 1.0935 - acc: 0.6250 - val_loss: 1.4588 - val_acc: 0.4953\n",
      "Epoch 20/25\n",
      "50000/50000 [==============================] - 2s 31us/step - loss: 1.0717 - acc: 0.6338 - val_loss: 1.4611 - val_acc: 0.4989\n",
      "Epoch 21/25\n",
      "50000/50000 [==============================] - 2s 32us/step - loss: 1.0512 - acc: 0.6434 - val_loss: 1.4559 - val_acc: 0.4970\n",
      "Epoch 22/25\n",
      "50000/50000 [==============================] - 2s 32us/step - loss: 1.0308 - acc: 0.6505 - val_loss: 1.4657 - val_acc: 0.4986\n",
      "Epoch 23/25\n",
      "50000/50000 [==============================] - 2s 32us/step - loss: 1.0109 - acc: 0.6587 - val_loss: 1.4709 - val_acc: 0.4887\n",
      "Epoch 24/25\n",
      "50000/50000 [==============================] - 2s 32us/step - loss: 0.9887 - acc: 0.6666 - val_loss: 1.4708 - val_acc: 0.4943\n",
      "Epoch 25/25\n",
      "50000/50000 [==============================] - 2s 32us/step - loss: 0.9670 - acc: 0.6742 - val_loss: 1.4658 - val_acc: 0.4977\n"
     ]
    }
   ],
   "source": [
    "model = build_mlp(input_shape=x_train.shape[1:])\n",
    "model.summary()\n",
    "optimizer = keras.optimizers.SGD(lr=LEARNING_RATE, nesterov=True, momentum=MOMENTUM)\n",
    "model.compile(loss=\"categorical_crossentropy\", metrics=[\"accuracy\"], optimizer=optimizer)\n",
    "\n",
    "\"\"\"Code Here\n",
    "將 callbacks 放入模型訓練流程中\n",
    "\"\"\"\n",
    "model.fit(x_train, y_train, \n",
    "          epochs=EPOCHS, \n",
    "          batch_size=BATCH_SIZE, \n",
    "          validation_data=(x_test, y_test), \n",
    "          shuffle=True,\n",
    "          callbacks=[rec_tptn]\n",
    "         )\n",
    "\n",
    "# Collect results\n",
    "train_loss = model.history.history[\"loss\"]\n",
    "valid_loss = model.history.history[\"val_loss\"]\n",
    "train_acc = model.history.history[\"acc\"]\n",
    "valid_acc = model.history.history[\"val_acc\"]\n",
    "\n",
    "\"\"\"Code Here\n",
    "將 tp/tn 從訓練完的模型中取出\n",
    "\"\"\"\n",
    "valid_tp = model.history.history[\"val_tp\"]\n",
    "valid_tn = model.history.history[\"val_tn\"]"
   ]
  },
  {
   "cell_type": "code",
   "execution_count": 42,
   "metadata": {},
   "outputs": [
    {
     "name": "stdout",
     "output_type": "stream",
     "text": [
      "[1149, 1198, 1263, 1328, 1407, 1400, 1412, 1457, 1414, 1379, 1469, 1450, 1472, 1468, 1470, 1493, 1419, 1437, 1447, 1491, 1422, 1529, 1420, 1492, 1434]\n",
      "[8851, 8802, 8737, 8672, 8593, 8600, 8588, 8543, 8586, 8621, 8531, 8550, 8528, 8532, 8530, 8507, 8581, 8563, 8553, 8509, 8578, 8471, 8580, 8508, 8566]\n"
     ]
    }
   ],
   "source": [
    "print(valid_tp)\n",
    "print(valid_tn)\n",
    "\n",
    "# print(len(valid_tp))\n",
    "# print(len(valid_tn))\n",
    "\n",
    "# import numpy as np\n",
    "# val_np = np.equal(valid_tp[0],valid_tn[0])\n",
    "# uni, count = np.unique(val_np, return_counts=True)\n",
    "# print(uni, count)\n",
    "# print(np.equal(valid_tp[0],valid_tn[0]))\n",
    "# print(len(np.equal(valid_tp[0],valid_tn[0])))"
   ]
  },
  {
   "cell_type": "code",
   "execution_count": 43,
   "metadata": {},
   "outputs": [
    {
     "data": {
      "image/png": "[encoded data removed]",
      "text/plain": [
       "<Figure size 432x288 with 1 Axes>"
      ]
     },
     "metadata": {
      "needs_background": "light"
     },
     "output_type": "display_data"
    },
    {
     "data": {
      "image/png": "[encoded data removed]",
      "text/plain": [
       "<Figure size 432x288 with 1 Axes>"
      ]
     },
     "metadata": {
      "needs_background": "light"
     },
     "output_type": "display_data"
    },
    {
     "data": {
      "image/png": "[encoded data removed]",
      "text/plain": [
       "<Figure size 432x288 with 1 Axes>"
      ]
     },
     "metadata": {
      "needs_background": "light"
     },
     "output_type": "display_data"
    }
   ],
   "source": [
    "import matplotlib.pyplot as plt\n",
    "%matplotlib inline\n",
    "\n",
    "plt.plot(range(len(train_loss)), train_loss, label=\"train loss\")\n",
    "plt.plot(range(len(valid_loss)), valid_loss, label=\"valid loss\")\n",
    "plt.legend()\n",
    "plt.title(\"Loss\")\n",
    "plt.show()\n",
    "\n",
    "plt.plot(range(len(train_acc)), train_acc, label=\"train accuracy\")\n",
    "plt.plot(range(len(valid_acc)), valid_acc, label=\"valid accuracy\")\n",
    "plt.legend()\n",
    "plt.title(\"Accuracy\")\n",
    "plt.show()\n",
    "\n",
    "plt.plot(range(len(valid_tp)), valid_tp, label=\"valid tp\", color=\"navy\")\n",
    "plt.plot(range(len(valid_tn)), valid_tn, label=\"valid tn\", color=\"red\")\n",
    "plt.legend()\n",
    "plt.title(\"True positives and True Negatives\")\n",
    "plt.show()\n"
   ]
  },
  {
   "cell_type": "code",
   "execution_count": null,
   "metadata": {},
   "outputs": [],
   "source": []
  }
 ],
 "metadata": {
  "kernelspec": {
   "display_name": "Python 3",
   "language": "python",
   "name": "python3"
  },
  "language_info": {
   "codemirror_mode": {
    "name": "ipython",
    "version": 3
   },
   "file_extension": ".py",
   "mimetype": "text/x-python",
   "name": "python",
   "nbconvert_exporter": "python",
   "pygments_lexer": "ipython3",
   "version": "3.7.3"
  }
 },
 "nbformat": 4,
 "nbformat_minor": 2
}
