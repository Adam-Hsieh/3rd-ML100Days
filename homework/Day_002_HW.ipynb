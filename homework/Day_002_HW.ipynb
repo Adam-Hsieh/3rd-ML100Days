{
 "cells": [
  {
   "cell_type": "markdown",
   "metadata": {},
   "source": [
    "## [作業目標]\n",
    "了解機器學習適合應用的領域與範疇。"
   ]
  },
  {
   "cell_type": "markdown",
   "metadata": {},
   "source": [
    "## [作業重點]\n",
    "透過瞭解機器學習的運作方式，找出非常適用機器學習應用的領域及其原因"
   ]
  },
  {
   "cell_type": "markdown",
   "metadata": {},
   "source": [
    "## 作業\n",
    "請找出一個你認為機器學習可以發光發熱的領域並闡述原因? "
   ]
  },
  {
   "cell_type": "markdown",
   "metadata": {},
   "source": [
    "> 我認為在未來在零售業上機器學習是可以發光發熱的，他算是一個完全可以賺錢的領域，而且能夠分析出許多事情，不只是文字、數值、影像、聲音，這些都可以用在這個領域上，而且我相信競爭會非常激烈。\n",
    "* 文字: 可以應用在 chatbot 或是客人對整體商店的評價。\n",
    "    * chatbot 不一定要用到很廣泛的聊天功能，而是能用在一些基本客服問題或是轉接功能。\n",
    "    * 評價分類或情緒分析，可以針對顧客在 Google Map 或是在社群軟體上的留言，去做一個分析。\n",
    "* 數值: 零售業的 POS 系統上或是網路購物平台可以外掛商品分析，對於商品每隔一段時間的售貨量會不會跟某些節日、新聞、特價或擺放位置有正相關的影響。\n",
    "* 影像: 影像可以做的事情就很多了，不論是監視、路徑追蹤、商品熱區等等都是老生常談的話題。\n",
    "* 聲音: 有些零售業會有做電話訪問或是電話客服的服務，都可以針對電話錄音的內容去做分析，不論是聲音情緒或是聲音轉文字的服務。"
   ]
  },
  {
   "cell_type": "code",
   "execution_count": null,
   "metadata": {},
   "outputs": [],
   "source": []
  }
 ],
 "metadata": {
  "kernelspec": {
   "display_name": "Python 3",
   "language": "python",
   "name": "python3"
  },
  "language_info": {
   "codemirror_mode": {
    "name": "ipython",
    "version": 3
   },
   "file_extension": ".py",
   "mimetype": "text/x-python",
   "name": "python",
   "nbconvert_exporter": "python",
   "pygments_lexer": "ipython3",
   "version": "3.7.3"
  }
 },
 "nbformat": 4,
 "nbformat_minor": 2
}
